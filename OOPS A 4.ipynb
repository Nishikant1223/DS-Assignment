{
 "cells": [
  {
   "cell_type": "code",
   "execution_count": null,
   "id": "2533a48c-260d-45e6-8566-14692b75e079",
   "metadata": {},
   "outputs": [],
   "source": [
    "Q1. Explain Class and Object with respect to Object-Oriented Programming. Give a suitable example.\n",
    "\n",
    "Ans :- 1) Class :-\n",
    "    A class is a collection of objects. A class contains the blueprints or the prototype from which the objects are being created.\n",
    "    It is a logical entity that contains some attributes and methods. \n",
    "\n",
    "    To understand the need for creating a class let’s consider an example, let’s say you wanted to track the number of dogs that may\n",
    "    have different attributes like breed, age. If a list is used, the first element could be the dog’s breed while the second element \n",
    "    could represent its age. Let’s suppose there are 100 different dogs, then how would you know which element is supposed to be which?\n",
    "    What if you wanted to add other properties to these dogs? This lacks organization and it’s the exact need for classes. "
   ]
  },
  {
   "cell_type": "code",
   "execution_count": 5,
   "id": "d61af04a-b16c-458a-8a36-f3ad38cfdef6",
   "metadata": {},
   "outputs": [],
   "source": [
    "class dog:\n",
    "    def __init__(self, breed, age) :\n",
    "        self.breed = breed\n",
    "        self.age = age\n",
    "        \n",
    "    def dog_details(self):\n",
    "        return self.breed, self.age"
   ]
  },
  {
   "cell_type": "code",
   "execution_count": 6,
   "id": "5df2954b-cdc9-4219-b47c-2d4e32886f03",
   "metadata": {},
   "outputs": [],
   "source": [
    "tommy = dog('German Shepherd', 9)"
   ]
  },
  {
   "cell_type": "code",
   "execution_count": 7,
   "id": "f48f900b-bf4c-4138-a015-436817f794c6",
   "metadata": {},
   "outputs": [
    {
     "data": {
      "text/plain": [
       "('German Shepherd', 9)"
      ]
     },
     "execution_count": 7,
     "metadata": {},
     "output_type": "execute_result"
    }
   ],
   "source": [
    "tommy.dog_details()"
   ]
  },
  {
   "cell_type": "code",
   "execution_count": null,
   "id": "fbcdebde-df83-4a58-afc4-3053da802744",
   "metadata": {},
   "outputs": [],
   "source": [
    "    In above example we create a class which name is dog."
   ]
  },
  {
   "cell_type": "code",
   "execution_count": null,
   "id": "3c4daf93-d88b-4b35-a6d6-032cae6542a3",
   "metadata": {},
   "outputs": [],
   "source": [
    "  2) Object : -\n",
    "    \n",
    "    The object is an entity that has a state and behavior associated with it.\n",
    "     \n",
    "    An object consists of :\n",
    "\n",
    "    State: It is represented by the attributes of an object. It also reflects the properties of an object.\n",
    "    Behavior: It is represented by the methods of an object. It also reflects the response of an object to other objects.\n",
    "I   dentity: It gives a unique name to an object and enables one object to interact with other objects.\n",
    "\n",
    "    In above example we create object like tommy which contain information related to dog such as breed and age.\n",
    "       "
   ]
  },
  {
   "cell_type": "code",
   "execution_count": null,
   "id": "fe6329d5-2098-4dfc-8d94-b688de3d1533",
   "metadata": {},
   "outputs": [],
   "source": [
    "Q2. Name the four pillars of OOPs.\n",
    "Ans :-\n",
    "     There four pillars of OOPs :-\n",
    "    1) Inheritance\n",
    "    2) Polymorphism\n",
    "    3) Encapsulation \n",
    "    4) Abstraction."
   ]
  },
  {
   "cell_type": "code",
   "execution_count": null,
   "id": "9cc4ad89-3dce-44dd-b6db-8458e8764bc0",
   "metadata": {},
   "outputs": [],
   "source": [
    "Q3. Explain why the __init__() function is used. Give a suitable example.\n",
    "Ans :-\n",
    "    All classes have a function called __init__(), which is always executed when the class is being initiated.\n",
    "    Use the __init__() function to assign values to object properties, or other operations that are necessary \n",
    "    to do when the object is being created:"
   ]
  },
  {
   "cell_type": "code",
   "execution_count": 10,
   "id": "dc72aba8-ed10-452d-b9e6-c97df48885cd",
   "metadata": {},
   "outputs": [],
   "source": [
    " ## Example\n",
    "class college :\n",
    "    def __init__(self, name, email_id, student_id, age):\n",
    "            self.name = name\n",
    "            self.email_id = email_id\n",
    "            self.student_id = student_id\n",
    "            self.age = age\n",
    "    def student_details(self):\n",
    "        return self.name, self.email_id, self.student_id, self.age\n",
    "        "
   ]
  },
  {
   "cell_type": "code",
   "execution_count": 11,
   "id": "0cde6777-37d5-4cf0-b3fc-6d7ecb79a0ff",
   "metadata": {},
   "outputs": [],
   "source": [
    "Nishikant = college('Nishi', 'abc@gmail.com', 110, 21)"
   ]
  },
  {
   "cell_type": "code",
   "execution_count": 12,
   "id": "fa6624c0-d580-4649-ba95-61aba9b7b42b",
   "metadata": {},
   "outputs": [
    {
     "data": {
      "text/plain": [
       "('Nishi', 'abc@gmail.com', 110, 21)"
      ]
     },
     "execution_count": 12,
     "metadata": {},
     "output_type": "execute_result"
    }
   ],
   "source": [
    "Nishikant.student_details()"
   ]
  },
  {
   "cell_type": "code",
   "execution_count": null,
   "id": "038c5de7-4f62-4cf8-9f1a-f8c487a3bbbf",
   "metadata": {},
   "outputs": [],
   "source": [
    "Q4. Why self is used in OOPs?\n",
    "Ans :-\n",
    "    self represents the instance of the class. By using the “self”  we can access the attributes and methods of the class in python.\n",
    "    It binds the attributes with the given arguments.The reason you need to use self. is because Python does not use the @ syntax to\n",
    "    refer to instance attributes. Python decided to do methods in a way that makes the instance to which the method belongs be passed automatically,\n",
    "    but not received automatically: the first parameter of methods is the instance the method is called on.\n",
    "    "
   ]
  },
  {
   "cell_type": "code",
   "execution_count": null,
   "id": "355df300-052a-4b83-aec9-8195cc00ac58",
   "metadata": {},
   "outputs": [],
   "source": [
    "Q5. What is inheritance? Give an example for each type of inheritance.\n",
    "Ans : -\n",
    "    Inheritance is defined as the mechanism of inheriting the properties of the base class to the child class.\n",
    "    There are five types of inheritance :\n",
    "        \n",
    "    1) Single Inheritance\n",
    "    2) Multilevel Inheritance\n",
    "    3) Multiple Inheritance\n",
    "    4) Hierachical Inheritance\n",
    "    5) Hybrid Inheritance\n",
    "    \n",
    "    1) Single Inheritance :\n",
    "        \n",
    "        Single inheritance enables a derived class to inherit properties from a single parent class, thus enabling code reusability\n",
    "        and the addition of new features to existing code.\n",
    "        \n",
    "        "
   ]
  },
  {
   "cell_type": "code",
   "execution_count": null,
   "id": "81e4c57d-ba06-4bc8-9a2e-7d1b1438cffb",
   "metadata": {},
   "outputs": [],
   "source": [
    "## Example\n",
    "\n",
    "class A1 :\n",
    "    def class_A1(self) :\n",
    "        return \"This is my Class 1\"\n",
    "   "
   ]
  },
  {
   "cell_type": "code",
   "execution_count": null,
   "id": "940706d2-e14c-4eb4-97ed-9a738b5f8b3d",
   "metadata": {},
   "outputs": [],
   "source": [
    "class A2(A1) :\n",
    "    pass"
   ]
  },
  {
   "cell_type": "code",
   "execution_count": null,
   "id": "2b941f7f-7887-4e94-a4c4-7cd0fb477e1b",
   "metadata": {},
   "outputs": [],
   "source": [
    "obj_A2 = A2()"
   ]
  },
  {
   "cell_type": "code",
   "execution_count": 6,
   "id": "c14bd92e-d621-49d1-99d7-677f201e6b32",
   "metadata": {},
   "outputs": [
    {
     "data": {
      "text/plain": [
       "'This is my Class 1'"
      ]
     },
     "execution_count": 6,
     "metadata": {},
     "output_type": "execute_result"
    }
   ],
   "source": [
    "obj_A2.class_A1()"
   ]
  },
  {
   "cell_type": "code",
   "execution_count": null,
   "id": "c6cb4541-3e8e-4eec-a03a-8a2bedd390bc",
   "metadata": {},
   "outputs": [],
   "source": [
    "    2) Multilevel Inheritance :\n",
    "        \n",
    "        In multilevel inheritance, features of the base class and the derived class are further inherited into the new derived class.\n",
    "        This is similar to a relationship representing a child and a grandfather."
   ]
  },
  {
   "cell_type": "code",
   "execution_count": 7,
   "id": "acd7e428-4c42-49d8-bd2a-866bc6881412",
   "metadata": {},
   "outputs": [],
   "source": [
    "## Example \n",
    "\n",
    "class P1 :\n",
    "    def class_P1(self) :\n",
    "        return \"Welcome to India\""
   ]
  },
  {
   "cell_type": "code",
   "execution_count": 8,
   "id": "d82ef848-15b0-45f3-8b58-c36ba0c62784",
   "metadata": {},
   "outputs": [],
   "source": [
    "class P2(P1) :\n",
    "    def class_P2(self) :\n",
    "        return \"Welcome to Delhi\"\n",
    "    "
   ]
  },
  {
   "cell_type": "code",
   "execution_count": 9,
   "id": "40552e18-bc4c-4167-8241-3ceb5bc72a7b",
   "metadata": {},
   "outputs": [],
   "source": [
    "class P3(P2) :\n",
    "    pass"
   ]
  },
  {
   "cell_type": "code",
   "execution_count": 10,
   "id": "e01a57f7-fd47-4198-a871-8c44cb17ae7a",
   "metadata": {},
   "outputs": [],
   "source": [
    "obj_P3 = P3()"
   ]
  },
  {
   "cell_type": "code",
   "execution_count": 11,
   "id": "eb5a1eac-7ad1-41fc-9780-235af9e5b4f0",
   "metadata": {},
   "outputs": [
    {
     "data": {
      "text/plain": [
       "'Welcome to India'"
      ]
     },
     "execution_count": 11,
     "metadata": {},
     "output_type": "execute_result"
    }
   ],
   "source": [
    "obj_P3.class_P1()"
   ]
  },
  {
   "cell_type": "code",
   "execution_count": 13,
   "id": "f97f4bde-e05e-45a3-893d-2bf4a6b95bb6",
   "metadata": {},
   "outputs": [
    {
     "data": {
      "text/plain": [
       "'Welcome to Delhi'"
      ]
     },
     "execution_count": 13,
     "metadata": {},
     "output_type": "execute_result"
    }
   ],
   "source": [
    "obj_P3.class_P2()"
   ]
  },
  {
   "cell_type": "code",
   "execution_count": null,
   "id": "275c2840-4024-47bf-b8c9-8cbe04284b29",
   "metadata": {},
   "outputs": [],
   "source": [
    "    3) Multiple Inheritance :\n",
    "        \n",
    "        When a class can be derived from more than one base class this type of inheritance is called multiple inheritances. \n",
    "        In multiple inheritances, all the features of the base classes are inherited into the derived class. "
   ]
  },
  {
   "cell_type": "code",
   "execution_count": 14,
   "id": "167368ac-7e99-4806-b4fb-8aaad967aae0",
   "metadata": {},
   "outputs": [],
   "source": [
    "## Example \n",
    "class C1 :\n",
    "    def class_C1(self) :\n",
    "        return \"First class of multiple inheritance\""
   ]
  },
  {
   "cell_type": "code",
   "execution_count": 15,
   "id": "275383be-7c1f-44c7-994e-65eae896e3c0",
   "metadata": {},
   "outputs": [],
   "source": [
    "class C2 :\n",
    "    def class_C2(self) :\n",
    "        return \"Second class of multiple inheritance\""
   ]
  },
  {
   "cell_type": "code",
   "execution_count": 16,
   "id": "32713d79-0ccb-4333-aec3-45d5eb4ffb3b",
   "metadata": {},
   "outputs": [],
   "source": [
    "class C3(C1, C2):\n",
    "    pass"
   ]
  },
  {
   "cell_type": "code",
   "execution_count": 17,
   "id": "8f2159a2-a571-43dd-bd53-9806222fb386",
   "metadata": {},
   "outputs": [],
   "source": [
    "obj_C3 = C3()"
   ]
  },
  {
   "cell_type": "code",
   "execution_count": 18,
   "id": "71d90a8b-96ad-487c-b415-872fc663af30",
   "metadata": {},
   "outputs": [
    {
     "data": {
      "text/plain": [
       "'First class of multiple inheritance'"
      ]
     },
     "execution_count": 18,
     "metadata": {},
     "output_type": "execute_result"
    }
   ],
   "source": [
    "obj_C3.class_C1()"
   ]
  },
  {
   "cell_type": "code",
   "execution_count": 19,
   "id": "8686b07b-49fa-480c-a5f1-3bebfba947ec",
   "metadata": {},
   "outputs": [
    {
     "data": {
      "text/plain": [
       "'Second class of multiple inheritance'"
      ]
     },
     "execution_count": 19,
     "metadata": {},
     "output_type": "execute_result"
    }
   ],
   "source": [
    "obj_C3.class_C2()"
   ]
  },
  {
   "cell_type": "code",
   "execution_count": null,
   "id": "76695a41-9b6f-4482-ab64-66dc6998133e",
   "metadata": {},
   "outputs": [],
   "source": [
    "     4) Hierachical Inheritance :\n",
    "        \n",
    "        When more than one derived class are created from a single base this type of inheritance is called hierarchical inheritance. \n",
    "        "
   ]
  },
  {
   "cell_type": "code",
   "execution_count": 20,
   "id": "11023c58-c662-48c5-9216-bf342eceea86",
   "metadata": {},
   "outputs": [],
   "source": [
    "## Example\n",
    "class parent :\n",
    "    def fun1(self):\n",
    "        return \"This is parent class\""
   ]
  },
  {
   "cell_type": "code",
   "execution_count": 21,
   "id": "d56c7ba7-33e8-4fd8-bf06-836da5fcbd36",
   "metadata": {},
   "outputs": [],
   "source": [
    "class child1(parent) :\n",
    "    def fun2(self):\n",
    "        return \"This is first child class\""
   ]
  },
  {
   "cell_type": "code",
   "execution_count": 22,
   "id": "02777190-733d-460f-bcbb-d9d8e18f001e",
   "metadata": {},
   "outputs": [],
   "source": [
    "class child2(parent) :\n",
    "    def fun3(self):\n",
    "        return \"This is second child class\""
   ]
  },
  {
   "cell_type": "code",
   "execution_count": 23,
   "id": "17d60349-9143-415a-8f4c-22993d370714",
   "metadata": {},
   "outputs": [],
   "source": [
    "child1_obj = child1()"
   ]
  },
  {
   "cell_type": "code",
   "execution_count": 24,
   "id": "86d1ecbd-9345-4d3f-bb53-23ca820d2890",
   "metadata": {},
   "outputs": [],
   "source": [
    "child2_obj = child2()"
   ]
  },
  {
   "cell_type": "code",
   "execution_count": 25,
   "id": "468d8773-050f-4250-a1ec-8810770c89f5",
   "metadata": {},
   "outputs": [
    {
     "data": {
      "text/plain": [
       "'This is parent class'"
      ]
     },
     "execution_count": 25,
     "metadata": {},
     "output_type": "execute_result"
    }
   ],
   "source": [
    "child1_obj.fun1()"
   ]
  },
  {
   "cell_type": "code",
   "execution_count": 26,
   "id": "9a51e07b-68ce-4ea8-8521-85a1c7546129",
   "metadata": {},
   "outputs": [
    {
     "data": {
      "text/plain": [
       "'This is first child class'"
      ]
     },
     "execution_count": 26,
     "metadata": {},
     "output_type": "execute_result"
    }
   ],
   "source": [
    "child1_obj.fun2()"
   ]
  },
  {
   "cell_type": "code",
   "execution_count": 27,
   "id": "f8166f08-4513-4780-a445-7777be719375",
   "metadata": {},
   "outputs": [
    {
     "data": {
      "text/plain": [
       "'This is parent class'"
      ]
     },
     "execution_count": 27,
     "metadata": {},
     "output_type": "execute_result"
    }
   ],
   "source": [
    "child2_obj.fun1()"
   ]
  },
  {
   "cell_type": "code",
   "execution_count": 28,
   "id": "5aec7205-14a9-43dc-99cf-eca99bb77890",
   "metadata": {},
   "outputs": [
    {
     "data": {
      "text/plain": [
       "'This is second child class'"
      ]
     },
     "execution_count": 28,
     "metadata": {},
     "output_type": "execute_result"
    }
   ],
   "source": [
    "child2_obj.fun3()"
   ]
  },
  {
   "cell_type": "code",
   "execution_count": null,
   "id": "f5dc9629-b8b8-4de5-a1de-37557377746b",
   "metadata": {},
   "outputs": [],
   "source": [
    "     5) Hybrid Inheritance :\n",
    "        \n",
    "        Inheritance consisting of multiple types of inheritance is called hybrid inheritance."
   ]
  },
  {
   "cell_type": "code",
   "execution_count": 29,
   "id": "35c24b2f-1ffd-4b8e-b3d3-855d9993b85e",
   "metadata": {},
   "outputs": [],
   "source": [
    "## Example \n",
    "class school :\n",
    "    def func_school(self):\n",
    "        return \"This is a school class\"\n",
    "        "
   ]
  },
  {
   "cell_type": "code",
   "execution_count": 30,
   "id": "b88c13d4-4678-44b5-848d-bce8bf490e6f",
   "metadata": {},
   "outputs": [],
   "source": [
    "class student1(school):\n",
    "    def func_student1(self):\n",
    "        return \"This is a student1 class\""
   ]
  },
  {
   "cell_type": "code",
   "execution_count": 31,
   "id": "575728a9-7da8-4ec4-96cf-91833e5fc257",
   "metadata": {},
   "outputs": [],
   "source": [
    "class student2(school):\n",
    "    def func_student2(self):\n",
    "        return \"This is a student2 class\""
   ]
  },
  {
   "cell_type": "code",
   "execution_count": 32,
   "id": "abcda671-1539-44b2-a64b-313501a09dea",
   "metadata": {},
   "outputs": [],
   "source": [
    "class student3(student1, school) :\n",
    "    pass"
   ]
  },
  {
   "cell_type": "code",
   "execution_count": 38,
   "id": "5edc2315-11e2-4913-a044-8d61e0ec8be2",
   "metadata": {},
   "outputs": [],
   "source": [
    "student3_obj = student3()"
   ]
  },
  {
   "cell_type": "code",
   "execution_count": 39,
   "id": "7bcc7cf7-65cb-4540-9e27-22e8bb85379a",
   "metadata": {},
   "outputs": [
    {
     "data": {
      "text/plain": [
       "'This is a school class'"
      ]
     },
     "execution_count": 39,
     "metadata": {},
     "output_type": "execute_result"
    }
   ],
   "source": [
    "student3_obj.func_school()"
   ]
  },
  {
   "cell_type": "code",
   "execution_count": 40,
   "id": "d0a81f55-251b-4a1b-b3a0-3a9b17321e30",
   "metadata": {},
   "outputs": [
    {
     "data": {
      "text/plain": [
       "'This is a student1 class'"
      ]
     },
     "execution_count": 40,
     "metadata": {},
     "output_type": "execute_result"
    }
   ],
   "source": [
    "student3_obj.func_student1()"
   ]
  },
  {
   "cell_type": "code",
   "execution_count": null,
   "id": "0cee7fac-b6d9-4cf8-9432-986472cf75cd",
   "metadata": {},
   "outputs": [],
   "source": []
  }
 ],
 "metadata": {
  "kernelspec": {
   "display_name": "Python 3 (ipykernel)",
   "language": "python",
   "name": "python3"
  },
  "language_info": {
   "codemirror_mode": {
    "name": "ipython",
    "version": 3
   },
   "file_extension": ".py",
   "mimetype": "text/x-python",
   "name": "python",
   "nbconvert_exporter": "python",
   "pygments_lexer": "ipython3",
   "version": "3.10.8"
  }
 },
 "nbformat": 4,
 "nbformat_minor": 5
}
