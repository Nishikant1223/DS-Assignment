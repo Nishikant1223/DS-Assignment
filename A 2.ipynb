{
 "cells": [
  {
   "cell_type": "code",
   "execution_count": null,
   "id": "16340ebe-77f1-4abf-b5bd-ff7e3886af96",
   "metadata": {},
   "outputs": [],
   "source": [
    "Q1. Which keyword is used to create a function? Create a function to return a list of odd numbers in the\n",
    "range of 1 to 25.\n",
    "Ans :-\n",
    "def keyword is used to create a function.\n"
   ]
  },
  {
   "cell_type": "code",
   "execution_count": 1,
   "id": "075ab507-8e04-46d5-8341-c0222e4333c2",
   "metadata": {},
   "outputs": [],
   "source": [
    "## List of odd numbers in the range of 1 to 25\n",
    "def test():\n",
    "    l = []\n",
    "    for i in range(1,25):\n",
    "        if i % 2 != 0:\n",
    "            l.append(i)\n",
    "    return l"
   ]
  },
  {
   "cell_type": "code",
   "execution_count": 2,
   "id": "f8cd15a5-d477-415d-9723-8cab16d700ce",
   "metadata": {},
   "outputs": [
    {
     "data": {
      "text/plain": [
       "[1, 3, 5, 7, 9, 11, 13, 15, 17, 19, 21, 23]"
      ]
     },
     "execution_count": 2,
     "metadata": {},
     "output_type": "execute_result"
    }
   ],
   "source": [
    "test()"
   ]
  },
  {
   "cell_type": "code",
   "execution_count": null,
   "id": "a52686c2-52ef-416b-b68d-6860d9f20266",
   "metadata": {},
   "outputs": [],
   "source": [
    "Q2. Why *args and **kwargs is used in some functions? Create a function each for *args and **kwargs\n",
    "to demonstrate their use.\n",
    "Ans :-\n",
    "1) *args :\n",
    "    \n",
    " With *args keyword, we can pass any variable length argument list to a function, and it is called 'args'.\n",
    "Since * represent variable number arguments so, it becomes iterable, which means we can apply a loop on it or\n",
    "iterate it with any other function like map or filter."
   ]
  },
  {
   "cell_type": "code",
   "execution_count": 4,
   "id": "3bb1a126-073d-4faa-86d1-138943463d92",
   "metadata": {},
   "outputs": [],
   "source": [
    "## function for *args\n",
    "def test(*args):\n",
    "    return args"
   ]
  },
  {
   "cell_type": "code",
   "execution_count": 5,
   "id": "a723d625-5e95-4ad1-be99-06e8a3b53625",
   "metadata": {},
   "outputs": [
    {
     "data": {
      "text/plain": [
       "(1, 2, 3, 'ram', 3.142, True, 'kumar', (5+8j), [10, 20, 30, 40])"
      ]
     },
     "execution_count": 5,
     "metadata": {},
     "output_type": "execute_result"
    }
   ],
   "source": [
    "test(1, 2, 3, \"ram\", 3.142, True, \"kumar\", 5+8j, [10, 20, 30, 40])"
   ]
  },
  {
   "cell_type": "code",
   "execution_count": null,
   "id": "ac89cfcb-5478-4d6e-8070-29a1c4c88c57",
   "metadata": {},
   "outputs": [],
   "source": [
    "2) **kwargs :\n",
    "  \n",
    " **kwargs keyword is used when we pass the keyword arguments as the parameters for the function. \n",
    "The keyword argument means that we pass the name to each variable, and this list is stored as a dictionary of key-value pairs.\n",
    "The name of the variable is the key, and the value of the variable is the value of the key."
   ]
  },
  {
   "cell_type": "code",
   "execution_count": 10,
   "id": "dcdbee00-2595-4793-869f-4e93202e70bd",
   "metadata": {},
   "outputs": [],
   "source": [
    "## function for *kwargs\n",
    "def test1(**kwargs):\n",
    "    return kwargs"
   ]
  },
  {
   "cell_type": "code",
   "execution_count": 12,
   "id": "05d78d29-4d92-47fa-913b-0d8ee2c4d4cc",
   "metadata": {},
   "outputs": [
    {
     "data": {
      "text/plain": [
       "{'a': 1, 'b': 'nishi', 'c': True, 'd': 4.32, 'e': (5+8j)}"
      ]
     },
     "execution_count": 12,
     "metadata": {},
     "output_type": "execute_result"
    }
   ],
   "source": [
    "test1(a = 1, b = 'nishi', c = True, d = 4.32, e = 5+8j)"
   ]
  },
  {
   "cell_type": "code",
   "execution_count": null,
   "id": "84e8f62e-7817-4b61-9660-e4d363152d42",
   "metadata": {},
   "outputs": [],
   "source": [
    "Q3. What is an iterator in python? Name the method used to initialise the iterator object and the method\n",
    "used for iteration. Use these methods to print the first five elements of the given list [2, 4, 6, 8, 10, 12, 14,\n",
    "16, 18, 20].\n",
    "Ans : -\n",
    "\n",
    "Iterator in Python is an object that is used to iterate over iterable objects like lists, tuples, dicts, and sets.\n",
    "An iterator is an object that contains a countable number of values.\n",
    "An iterator is an object that can be iterated upon, meaning that you can traverse through all the values.\n",
    "The iterator object is initialized using the iter() method. It uses the next() method for iteration.\n"
   ]
  },
  {
   "cell_type": "code",
   "execution_count": 13,
   "id": "aa7a50c1-a383-4451-8362-e3c5cdbd0bd9",
   "metadata": {},
   "outputs": [],
   "source": [
    "list = [2, 4, 6, 8, 10, 12, 14, 16, 18, 20]"
   ]
  },
  {
   "cell_type": "code",
   "execution_count": 14,
   "id": "71cf56b5-1b82-4357-9a13-4f9798a2c7ea",
   "metadata": {},
   "outputs": [],
   "source": [
    "l = iter(list)"
   ]
  },
  {
   "cell_type": "code",
   "execution_count": 15,
   "id": "172dc6ff-23b0-42c6-9fbe-8dd337cf9a82",
   "metadata": {},
   "outputs": [
    {
     "data": {
      "text/plain": [
       "2"
      ]
     },
     "execution_count": 15,
     "metadata": {},
     "output_type": "execute_result"
    }
   ],
   "source": [
    "next(l)"
   ]
  },
  {
   "cell_type": "code",
   "execution_count": 16,
   "id": "f6a4d193-34d1-474f-a3a0-db409302e227",
   "metadata": {},
   "outputs": [
    {
     "data": {
      "text/plain": [
       "4"
      ]
     },
     "execution_count": 16,
     "metadata": {},
     "output_type": "execute_result"
    }
   ],
   "source": [
    "next(l)"
   ]
  },
  {
   "cell_type": "code",
   "execution_count": 18,
   "id": "64ca904c-98ca-416a-992f-e54db6e7b9af",
   "metadata": {},
   "outputs": [
    {
     "data": {
      "text/plain": [
       "6"
      ]
     },
     "execution_count": 18,
     "metadata": {},
     "output_type": "execute_result"
    }
   ],
   "source": [
    "next(l)"
   ]
  },
  {
   "cell_type": "code",
   "execution_count": 19,
   "id": "b7b5e561-2608-4eab-b00c-3b4495f83237",
   "metadata": {},
   "outputs": [
    {
     "data": {
      "text/plain": [
       "8"
      ]
     },
     "execution_count": 19,
     "metadata": {},
     "output_type": "execute_result"
    }
   ],
   "source": [
    "next(l)"
   ]
  },
  {
   "cell_type": "code",
   "execution_count": 20,
   "id": "d2fb3da4-b637-4454-aa74-d608339e7504",
   "metadata": {},
   "outputs": [
    {
     "data": {
      "text/plain": [
       "10"
      ]
     },
     "execution_count": 20,
     "metadata": {},
     "output_type": "execute_result"
    }
   ],
   "source": [
    "next(l)"
   ]
  },
  {
   "cell_type": "code",
   "execution_count": null,
   "id": "898185df-40d9-433f-a2c4-fbca69e2c1f0",
   "metadata": {},
   "outputs": [],
   "source": [
    "Q4. What is a generator function in python? Why yield keyword is used? Give an example of a generator function\n",
    "Ans :-\n",
    "\n",
    "Python Generator functions allow you to declare a function that behaves likes an iterator, allowing programmers to make an iterator in a fast,\n",
    "easy, and clean way. \n",
    "The yield keyword in Python controls the flow of a generator function. This is similar to a return statement used for returning values in Python.\n",
    " However, there is a difference."
   ]
  },
  {
   "cell_type": "code",
   "execution_count": 25,
   "id": "2500c9a9-a474-4444-ab13-3646c6f26ede",
   "metadata": {},
   "outputs": [
    {
     "name": "stdout",
     "output_type": "stream",
     "text": [
      "0\n",
      "1\n",
      "1\n",
      "2\n",
      "3\n",
      "5\n",
      "8\n",
      "13\n",
      "21\n",
      "34\n"
     ]
    }
   ],
   "source": [
    "## example of generator function\n",
    "## Create fibonacci series using genarator function\n",
    "def test(n):\n",
    "    a,b = 0, 1\n",
    "    for i in range(n):\n",
    "        yield a\n",
    "        a,b = b, a+b\n",
    "for i in test(10):\n",
    "    print(i)"
   ]
  },
  {
   "cell_type": "code",
   "execution_count": null,
   "id": "3ae7cefc-da1d-4742-83e5-5c278e84f799",
   "metadata": {},
   "outputs": [],
   "source": [
    "Q5. Create a generator function for prime numbers less than 1000. Use the next() method to print the\n",
    "first 20 prime numbers.\n"
   ]
  },
  {
   "cell_type": "code",
   "execution_count": 2,
   "id": "d81f364f-3b01-4929-b25d-9f6c3ee78680",
   "metadata": {},
   "outputs": [
    {
     "name": "stdout",
     "output_type": "stream",
     "text": [
      "2\n",
      "3\n",
      "5\n",
      "7\n",
      "11\n",
      "13\n",
      "17\n",
      "19\n",
      "23\n",
      "29\n",
      "31\n",
      "37\n",
      "41\n",
      "43\n",
      "47\n",
      "53\n",
      "59\n",
      "61\n",
      "67\n",
      "71\n"
     ]
    }
   ],
   "source": [
    "def prime_number():\n",
    "    i_prime = []\n",
    "    for k in range(2,1000):\n",
    "        for p in i_prime:\n",
    "            if k % p == 0:\n",
    "                break\n",
    "        else:\n",
    "            i_prime.append(k)\n",
    "            yield k\n",
    "            \n",
    "n = prime_number()\n",
    "for i in range(20):\n",
    "    print(next(n))"
   ]
  },
  {
   "cell_type": "code",
   "execution_count": null,
   "id": "ba5925aa-140f-44a9-87c8-bb928b1beba5",
   "metadata": {},
   "outputs": [],
   "source": [
    "Q6. Write a python program to print the first 10 Fibonacci numbers using a while loop."
   ]
  },
  {
   "cell_type": "code",
   "execution_count": 4,
   "id": "72b721dd-5b74-4dd6-abc6-800363bc0270",
   "metadata": {},
   "outputs": [
    {
     "name": "stdin",
     "output_type": "stream",
     "text": [
      "enter element 10\n"
     ]
    },
    {
     "name": "stdout",
     "output_type": "stream",
     "text": [
      "0\n",
      "1\n",
      "1\n",
      "2\n",
      "3\n",
      "5\n",
      "8\n",
      "13\n",
      "21\n",
      "34\n"
     ]
    }
   ],
   "source": [
    "num = int(input(\"enter element\"))\n",
    "a, b = 0, 1\n",
    "counter = 0\n",
    "while counter < num:\n",
    "          print(a)\n",
    "          c = a + b\n",
    "          a = b\n",
    "          b= c\n",
    "          counter = counter + 1\n",
    "          "
   ]
  },
  {
   "cell_type": "code",
   "execution_count": null,
   "id": "44e2f62a-90ce-49be-8fa3-219b1cbe8295",
   "metadata": {},
   "outputs": [],
   "source": [
    "Q7. Write a List Comprehension to iterate through the given string: ‘pwskills’.\n",
    "Expected output: ['p', 'w', 's', 'k', 'i', 'l', 'l', 's']"
   ]
  },
  {
   "cell_type": "code",
   "execution_count": 5,
   "id": "d24f9d67-883a-46b2-9646-50a3a14f1f1e",
   "metadata": {},
   "outputs": [],
   "source": [
    "s = \"pwskills\""
   ]
  },
  {
   "cell_type": "code",
   "execution_count": 7,
   "id": "d1423144-fdbb-4bd6-9e3c-3b15907e6cec",
   "metadata": {},
   "outputs": [
    {
     "data": {
      "text/plain": [
       "['p', 'w', 's', 'k', 'i', 'l', 'l', 's']"
      ]
     },
     "execution_count": 7,
     "metadata": {},
     "output_type": "execute_result"
    }
   ],
   "source": [
    "list(s)"
   ]
  },
  {
   "cell_type": "code",
   "execution_count": null,
   "id": "b80a286d-8238-4c4b-96c1-a13b60c997e0",
   "metadata": {},
   "outputs": [],
   "source": [
    "Q8. Write a python program to check whether a given number is Palindrome or not using a while loop."
   ]
  },
  {
   "cell_type": "code",
   "execution_count": 1,
   "id": "13b5c6cc-2bb1-4e24-8e68-04e1d5c98dac",
   "metadata": {},
   "outputs": [
    {
     "name": "stdin",
     "output_type": "stream",
     "text": [
      "Enter number: 121\n"
     ]
    },
    {
     "name": "stdout",
     "output_type": "stream",
     "text": [
      "The number is a palindrome!\n"
     ]
    }
   ],
   "source": [
    "n=int(input(\"Enter number:\"))\n",
    "temp=n\n",
    "rev=0\n",
    "while(n>0):\n",
    "    dig=n%10\n",
    "    rev=rev*10+dig\n",
    "    n=n//10\n",
    "if(temp==rev):\n",
    "    print(\"The number is a palindrome!\")\n",
    "else:\n",
    "    print(\"The number isn't a palindrome!\")"
   ]
  },
  {
   "cell_type": "code",
   "execution_count": null,
   "id": "901a7bd7-e9c2-4fe4-8028-ac550b035703",
   "metadata": {},
   "outputs": [],
   "source": [
    "Q9. Write a code to print odd numbers from 1 to 100 using list comprehension."
   ]
  },
  {
   "cell_type": "code",
   "execution_count": 4,
   "id": "94996ac4-f7d4-4fea-ae81-290c835013ab",
   "metadata": {},
   "outputs": [
    {
     "name": "stdout",
     "output_type": "stream",
     "text": [
      "1\n",
      "3\n",
      "5\n",
      "7\n",
      "9\n",
      "11\n",
      "13\n",
      "15\n",
      "17\n",
      "19\n",
      "21\n",
      "23\n",
      "25\n",
      "27\n",
      "29\n",
      "31\n",
      "33\n",
      "35\n",
      "37\n",
      "39\n",
      "41\n",
      "43\n",
      "45\n",
      "47\n",
      "49\n",
      "51\n",
      "53\n",
      "55\n",
      "57\n",
      "59\n",
      "61\n",
      "63\n",
      "65\n",
      "67\n",
      "69\n",
      "71\n",
      "73\n",
      "75\n",
      "77\n",
      "79\n",
      "81\n",
      "83\n",
      "85\n",
      "87\n",
      "89\n",
      "91\n",
      "93\n",
      "95\n",
      "97\n",
      "99\n"
     ]
    }
   ],
   "source": [
    "l = []\n",
    "for i in range(1,101):\n",
    "    if i % 2 != 0:\n",
    "        print(i)\n",
    "        l.append(i)"
   ]
  },
  {
   "cell_type": "code",
   "execution_count": null,
   "id": "21b0e16b-149c-4b2c-9723-8aeb5870600d",
   "metadata": {},
   "outputs": [],
   "source": []
  }
 ],
 "metadata": {
  "kernelspec": {
   "display_name": "Python 3 (ipykernel)",
   "language": "python",
   "name": "python3"
  },
  "language_info": {
   "codemirror_mode": {
    "name": "ipython",
    "version": 3
   },
   "file_extension": ".py",
   "mimetype": "text/x-python",
   "name": "python",
   "nbconvert_exporter": "python",
   "pygments_lexer": "ipython3",
   "version": "3.10.8"
  }
 },
 "nbformat": 4,
 "nbformat_minor": 5
}
